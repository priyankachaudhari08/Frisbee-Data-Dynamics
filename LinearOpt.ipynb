{
  "nbformat": 4,
  "nbformat_minor": 0,
  "metadata": {
    "colab": {
      "provenance": []
    },
    "kernelspec": {
      "name": "python3",
      "display_name": "Python 3"
    },
    "language_info": {
      "name": "python"
    }
  },
  "cells": [
    {
      "cell_type": "code",
      "execution_count": 1,
      "metadata": {
        "colab": {
          "base_uri": "https://localhost:8080/"
        },
        "id": "rl_j060xMnT2",
        "outputId": "804dd538-1dd3-40d9-fb1e-544cb9cabd7c"
      },
      "outputs": [
        {
          "output_type": "stream",
          "name": "stdout",
          "text": [
            "Requirement already satisfied: google-cloud-bigquery in /usr/local/lib/python3.10/dist-packages (3.25.0)\n",
            "Requirement already satisfied: google-api-core!=2.0.*,!=2.1.*,!=2.10.*,!=2.2.*,!=2.3.*,!=2.4.*,!=2.5.*,!=2.6.*,!=2.7.*,!=2.8.*,!=2.9.*,<3.0.0dev,>=1.34.1 in /usr/local/lib/python3.10/dist-packages (from google-api-core[grpc]!=2.0.*,!=2.1.*,!=2.10.*,!=2.2.*,!=2.3.*,!=2.4.*,!=2.5.*,!=2.6.*,!=2.7.*,!=2.8.*,!=2.9.*,<3.0.0dev,>=1.34.1->google-cloud-bigquery) (2.19.1)\n",
            "Requirement already satisfied: google-auth<3.0.0dev,>=2.14.1 in /usr/local/lib/python3.10/dist-packages (from google-cloud-bigquery) (2.27.0)\n",
            "Requirement already satisfied: google-cloud-core<3.0.0dev,>=1.6.0 in /usr/local/lib/python3.10/dist-packages (from google-cloud-bigquery) (2.4.1)\n",
            "Requirement already satisfied: google-resumable-media<3.0dev,>=0.6.0 in /usr/local/lib/python3.10/dist-packages (from google-cloud-bigquery) (2.7.1)\n",
            "Requirement already satisfied: packaging>=20.0.0 in /usr/local/lib/python3.10/dist-packages (from google-cloud-bigquery) (24.1)\n",
            "Requirement already satisfied: python-dateutil<3.0dev,>=2.7.2 in /usr/local/lib/python3.10/dist-packages (from google-cloud-bigquery) (2.8.2)\n",
            "Requirement already satisfied: requests<3.0.0dev,>=2.21.0 in /usr/local/lib/python3.10/dist-packages (from google-cloud-bigquery) (2.32.3)\n",
            "Requirement already satisfied: googleapis-common-protos<2.0.dev0,>=1.56.2 in /usr/local/lib/python3.10/dist-packages (from google-api-core!=2.0.*,!=2.1.*,!=2.10.*,!=2.2.*,!=2.3.*,!=2.4.*,!=2.5.*,!=2.6.*,!=2.7.*,!=2.8.*,!=2.9.*,<3.0.0dev,>=1.34.1->google-api-core[grpc]!=2.0.*,!=2.1.*,!=2.10.*,!=2.2.*,!=2.3.*,!=2.4.*,!=2.5.*,!=2.6.*,!=2.7.*,!=2.8.*,!=2.9.*,<3.0.0dev,>=1.34.1->google-cloud-bigquery) (1.63.2)\n",
            "Requirement already satisfied: protobuf!=3.20.0,!=3.20.1,!=4.21.0,!=4.21.1,!=4.21.2,!=4.21.3,!=4.21.4,!=4.21.5,<6.0.0.dev0,>=3.19.5 in /usr/local/lib/python3.10/dist-packages (from google-api-core!=2.0.*,!=2.1.*,!=2.10.*,!=2.2.*,!=2.3.*,!=2.4.*,!=2.5.*,!=2.6.*,!=2.7.*,!=2.8.*,!=2.9.*,<3.0.0dev,>=1.34.1->google-api-core[grpc]!=2.0.*,!=2.1.*,!=2.10.*,!=2.2.*,!=2.3.*,!=2.4.*,!=2.5.*,!=2.6.*,!=2.7.*,!=2.8.*,!=2.9.*,<3.0.0dev,>=1.34.1->google-cloud-bigquery) (3.20.3)\n",
            "Requirement already satisfied: proto-plus<2.0.0dev,>=1.22.3 in /usr/local/lib/python3.10/dist-packages (from google-api-core!=2.0.*,!=2.1.*,!=2.10.*,!=2.2.*,!=2.3.*,!=2.4.*,!=2.5.*,!=2.6.*,!=2.7.*,!=2.8.*,!=2.9.*,<3.0.0dev,>=1.34.1->google-api-core[grpc]!=2.0.*,!=2.1.*,!=2.10.*,!=2.2.*,!=2.3.*,!=2.4.*,!=2.5.*,!=2.6.*,!=2.7.*,!=2.8.*,!=2.9.*,<3.0.0dev,>=1.34.1->google-cloud-bigquery) (1.24.0)\n",
            "Requirement already satisfied: grpcio<2.0dev,>=1.33.2 in /usr/local/lib/python3.10/dist-packages (from google-api-core[grpc]!=2.0.*,!=2.1.*,!=2.10.*,!=2.2.*,!=2.3.*,!=2.4.*,!=2.5.*,!=2.6.*,!=2.7.*,!=2.8.*,!=2.9.*,<3.0.0dev,>=1.34.1->google-cloud-bigquery) (1.64.1)\n",
            "Requirement already satisfied: grpcio-status<2.0.dev0,>=1.33.2 in /usr/local/lib/python3.10/dist-packages (from google-api-core[grpc]!=2.0.*,!=2.1.*,!=2.10.*,!=2.2.*,!=2.3.*,!=2.4.*,!=2.5.*,!=2.6.*,!=2.7.*,!=2.8.*,!=2.9.*,<3.0.0dev,>=1.34.1->google-cloud-bigquery) (1.48.2)\n",
            "Requirement already satisfied: cachetools<6.0,>=2.0.0 in /usr/local/lib/python3.10/dist-packages (from google-auth<3.0.0dev,>=2.14.1->google-cloud-bigquery) (5.4.0)\n",
            "Requirement already satisfied: pyasn1-modules>=0.2.1 in /usr/local/lib/python3.10/dist-packages (from google-auth<3.0.0dev,>=2.14.1->google-cloud-bigquery) (0.4.0)\n",
            "Requirement already satisfied: rsa<5,>=3.1.4 in /usr/local/lib/python3.10/dist-packages (from google-auth<3.0.0dev,>=2.14.1->google-cloud-bigquery) (4.9)\n",
            "Requirement already satisfied: google-crc32c<2.0dev,>=1.0 in /usr/local/lib/python3.10/dist-packages (from google-resumable-media<3.0dev,>=0.6.0->google-cloud-bigquery) (1.5.0)\n",
            "Requirement already satisfied: six>=1.5 in /usr/local/lib/python3.10/dist-packages (from python-dateutil<3.0dev,>=2.7.2->google-cloud-bigquery) (1.16.0)\n",
            "Requirement already satisfied: charset-normalizer<4,>=2 in /usr/local/lib/python3.10/dist-packages (from requests<3.0.0dev,>=2.21.0->google-cloud-bigquery) (3.3.2)\n",
            "Requirement already satisfied: idna<4,>=2.5 in /usr/local/lib/python3.10/dist-packages (from requests<3.0.0dev,>=2.21.0->google-cloud-bigquery) (3.7)\n",
            "Requirement already satisfied: urllib3<3,>=1.21.1 in /usr/local/lib/python3.10/dist-packages (from requests<3.0.0dev,>=2.21.0->google-cloud-bigquery) (2.0.7)\n",
            "Requirement already satisfied: certifi>=2017.4.17 in /usr/local/lib/python3.10/dist-packages (from requests<3.0.0dev,>=2.21.0->google-cloud-bigquery) (2024.7.4)\n",
            "Requirement already satisfied: pyasn1<0.7.0,>=0.4.6 in /usr/local/lib/python3.10/dist-packages (from pyasn1-modules>=0.2.1->google-auth<3.0.0dev,>=2.14.1->google-cloud-bigquery) (0.6.0)\n"
          ]
        }
      ],
      "source": [
        "!pip install --upgrade google-cloud-bigquery\n"
      ]
    },
    {
      "cell_type": "code",
      "source": [
        "from google.colab import auth\n",
        "auth.authenticate_user()\n"
      ],
      "metadata": {
        "id": "TJmi_r0WNEIG"
      },
      "execution_count": 2,
      "outputs": []
    },
    {
      "cell_type": "code",
      "source": [
        "from google.cloud import bigquery\n",
        "\n",
        "# Create a BigQuery client\n",
        "client = bigquery.Client(project='boston-glory-analytics')\n"
      ],
      "metadata": {
        "id": "c6TI7godNJXA"
      },
      "execution_count": 5,
      "outputs": []
    },
    {
      "cell_type": "code",
      "source": [
        "# Example query to fetch data from BigQuery\n",
        "query = \"\"\"\n",
        "    SELECT *\n",
        "    FROM `boston-glory-analytics.audl.performance_players`\n",
        "    LIMIT 100\n",
        "\"\"\"\n",
        "# Run the query and convert the result to a DataFrame\n",
        "df_performance_players = client.query(query).to_dataframe()\n"
      ],
      "metadata": {
        "id": "UgOHzGJTNO5b"
      },
      "execution_count": 7,
      "outputs": []
    },
    {
      "cell_type": "code",
      "source": [
        "query_boston_glory_players = \"\"\"\n",
        "    SELECT *\n",
        "    FROM `boston-glory-analytics.audl.boston_glory_players`\n",
        "\"\"\"\n",
        "df_boston_glory_players = client.query(query_boston_glory_players).to_dataframe()\n",
        "\n",
        "query_opposing_team_players = \"\"\"\n",
        "    SELECT *\n",
        "    FROM `boston-glory-analytics.audl.opposing_team_players`\n",
        "\"\"\"\n",
        "df_opposing_team_players = client.query(query_opposing_team_players).to_dataframe()\n"
      ],
      "metadata": {
        "id": "6k-PbPyINU4n"
      },
      "execution_count": 8,
      "outputs": []
    },
    {
      "cell_type": "code",
      "source": [
        "!pip install pulp pandas\n"
      ],
      "metadata": {
        "colab": {
          "base_uri": "https://localhost:8080/"
        },
        "id": "oyga1hI6Npfs",
        "outputId": "71f01f83-52cd-41ef-a2b9-5a90fc80a8b7"
      },
      "execution_count": 11,
      "outputs": [
        {
          "output_type": "stream",
          "name": "stdout",
          "text": [
            "Collecting pulp\n",
            "  Downloading PuLP-2.9.0-py3-none-any.whl.metadata (5.4 kB)\n",
            "Requirement already satisfied: pandas in /usr/local/lib/python3.10/dist-packages (2.1.4)\n",
            "Requirement already satisfied: numpy<2,>=1.22.4 in /usr/local/lib/python3.10/dist-packages (from pandas) (1.26.4)\n",
            "Requirement already satisfied: python-dateutil>=2.8.2 in /usr/local/lib/python3.10/dist-packages (from pandas) (2.8.2)\n",
            "Requirement already satisfied: pytz>=2020.1 in /usr/local/lib/python3.10/dist-packages (from pandas) (2024.1)\n",
            "Requirement already satisfied: tzdata>=2022.1 in /usr/local/lib/python3.10/dist-packages (from pandas) (2024.1)\n",
            "Requirement already satisfied: six>=1.5 in /usr/local/lib/python3.10/dist-packages (from python-dateutil>=2.8.2->pandas) (1.16.0)\n",
            "Downloading PuLP-2.9.0-py3-none-any.whl (17.7 MB)\n",
            "\u001b[2K   \u001b[90m━━━━━━━━━━━━━━━━━━━━━━━━━━━━━━━━━━━━━━━━\u001b[0m \u001b[32m17.7/17.7 MB\u001b[0m \u001b[31m53.4 MB/s\u001b[0m eta \u001b[36m0:00:00\u001b[0m\n",
            "\u001b[?25hInstalling collected packages: pulp\n",
            "Successfully installed pulp-2.9.0\n"
          ]
        }
      ]
    },
    {
      "cell_type": "code",
      "source": [
        "import pandas as pd\n",
        "from pulp import *\n"
      ],
      "metadata": {
        "id": "OAS2-mrjNew-"
      },
      "execution_count": 12,
      "outputs": []
    },
    {
      "cell_type": "code",
      "source": [
        "df_performance_players = client.query(\"\"\"\n",
        "    SELECT *\n",
        "    FROM `boston-glory-analytics.audl.performance_players`\n",
        "\"\"\").to_dataframe()\n",
        "\n",
        "df_boston_glory_players = client.query(\"\"\"\n",
        "    SELECT *\n",
        "    FROM `boston-glory-analytics.audl.boston_glory_players`\n",
        "\"\"\").to_dataframe()\n",
        "\n",
        "df_opposing_team_players = client.query(\"\"\"\n",
        "    SELECT *\n",
        "    FROM `boston-glory-analytics.audl.opposing_team_players`\n",
        "\"\"\").to_dataframe()\n"
      ],
      "metadata": {
        "id": "AYEt_lnoNt0S"
      },
      "execution_count": 13,
      "outputs": []
    },
    {
      "cell_type": "code",
      "source": [
        "print(df_opposing_team_players.dtypes)\n"
      ],
      "metadata": {
        "colab": {
          "base_uri": "https://localhost:8080/"
        },
        "id": "3GyGj5l1N9LR",
        "outputId": "c0bbede0-5398-4a28-ed35-4cb853862a90"
      },
      "execution_count": 17,
      "outputs": [
        {
          "output_type": "stream",
          "name": "stdout",
          "text": [
            "year                     object\n",
            "playerID                 object\n",
            "firstName                object\n",
            "lastName                 object\n",
            "teamID                   object\n",
            "games                     Int64\n",
            "assists                   Int64\n",
            "goals                     Int64\n",
            "hockeyAssists             Int64\n",
            "completions               Int64\n",
            "throwAttempts             Int64\n",
            "throwaways                Int64\n",
            "stalls                    Int64\n",
            "callahansThrown           Int64\n",
            "yardsReceived             Int64\n",
            "yardsThrown               Int64\n",
            "hucksAttempted            Int64\n",
            "hucksCompleted            Int64\n",
            "catches                   Int64\n",
            "drops                     Int64\n",
            "blocks                    Int64\n",
            "callahans                 Int64\n",
            "pulls                     Int64\n",
            "obPulls                   Int64\n",
            "recordedPulls             Int64\n",
            "recordedPullsHangtime     Int64\n",
            "oPointsPlayed             Int64\n",
            "oPointsScored             Int64\n",
            "dPointsPlayed             Int64\n",
            "dPointsScored             Int64\n",
            "secondsPlayed             Int64\n",
            "oOpportunities            Int64\n",
            "oOpportunityScores        Int64\n",
            "dOpportunities            Int64\n",
            "dOpportunityStops         Int64\n",
            "dtype: object\n"
          ]
        }
      ]
    },
    {
      "cell_type": "code",
      "source": [
        "numeric_columns = ['goals', 'assists', 'completions', 'blocks']  # Add other relevant columns if necessary\n",
        "\n",
        "opponent_stats = df_opposing_team_players[df_opposing_team_players['teamID'] == opponent_name][numeric_columns].mean()\n",
        "\n",
        "print(opponent_stats)\n"
      ],
      "metadata": {
        "colab": {
          "base_uri": "https://localhost:8080/"
        },
        "id": "xB-ZCs7NOJ-u",
        "outputId": "0726c59d-eae3-4a01-ed15-4b0af6035c80"
      },
      "execution_count": 18,
      "outputs": [
        {
          "output_type": "stream",
          "name": "stdout",
          "text": [
            "goals           7.674603\n",
            "assists         7.611111\n",
            "completions    96.357143\n",
            "blocks          5.301587\n",
            "dtype: Float64\n"
          ]
        }
      ]
    },
    {
      "cell_type": "code",
      "source": [
        "opponent_name = 'dragons'\n",
        "opponent_stats = df_opposing_team_players[df_opposing_team_players['teamID'] == opponent_name].mean()\n"
      ],
      "metadata": {
        "colab": {
          "base_uri": "https://localhost:8080/",
          "height": 527
        },
        "id": "jFQS-Vd1NxLP",
        "outputId": "681f5f5b-77e0-4a01-8f04-d4e9985c81f5"
      },
      "execution_count": 19,
      "outputs": [
        {
          "output_type": "error",
          "ename": "TypeError",
          "evalue": "Could not convert ['201220122012201220122012201220122012201220122012201220122012201220122012201220122012201220122012201220122013201320132013201320132013201320132013201320132013201320132013201320132013201320132013201320132013201320132013201320132013201320132013201320132014201420142014201420142014201420142014201420142014201420142014201420142014201420142014201420142014201420142014201420142014201420142014201520152015201520152015201520152015201520152015201520152015201520152015201520152015201520152015201520152015201520152015'\n 'mandersonjbainsbrunnertburnsdculverjdemasovdevarajedixonsdonnellardulabonkdziakdhassellthorvathjkantermpannonemplunkettkquinlanjramermanjserafinizsmithmsteinerdurbinogwakemandwardaweitzmandwheelerdabbottjbainjbeckersbrunnertburnsscalabresccolicchidculvervdevarajidipaceedixonsdonnellakdziakdferrarocfortinsglauserkhoercherthorvathjkantertkominosdmccuneemeccarelkmosesdonkquinlanmrickhschwarzewsloanzsmithrsmith1jthompsondurbinogwakemandwangdwheelertwisseldabbottmandersonunknown17jbainjbeckersbrunnertburnsnbutlerccolicchiidipacesdonnellakdziakdferrarocfortinsfrazeeghagethorvathbkiblertkominosdmccuneemeccarelanortonkquinlanmrickmrybakwsloanezsmithrsmith1pstegemoemsteinerjthompsondurbinogwakemanmwheelerdabbottjbaincbarretttburnsmcameronscarlettabcoffeycfotinwgardnerjilowitebkahlermkesselribkiblertkominosrlangecliessdmccunecmcgowancmiddletoamonescalkmorgankquinlancreiffmrickmrybakpstegemoedurbinorvaneppstwighteyoon'\n 'MattJonathanSkylarTJDeanJasonVivekEricSeanRobKJDanThomasJeremyMikeMikeKevinJohnJohnZackMitchellDougGregDavidAriDavidDaveJonathanJoeSkylarTJSteveCJDeanVivekIanEricSeanKJDavidConnorStephenKevinThomasJeremyTimDanEvanKellyDannyKevinMaxwellHarrisonWillZackRobJoeDougGregDanDavidTadDaveMattDylanJonathanJoeSkylarTJNealCJIanSeanKJDavidConnorSonnyGabrielThomasBrianTimDanEvanAlecKevinMaxwellMattWillZackRobPatrickMitchellJoeDougGregMitchDaveJonathanChrisTJMattSamBretConnorWilsonJustinBrandonMaxBrianTimRichardChrisDanCraigCarterAnthonyKyleKevinCharlieMaxwellMattPatrickDougRaleighThomasEric'\n 'AndersonBainBrunnerBurnsCulverDeMasoDevarajDixonDonnellanDulabonDziakHassellHorvathKanterPannonePlunkettQuinlanRamermanSerafiniSmithSteinerUrbinoWakemanWardWeitzmanWheelerAbbottBainBeckerBrunnerBurnsCalabreseColicchioCulverDevarajDipaceDixonDonnellanDziakFerraroFortinGlauserHoercherHorvathKanterKominosMcCuneMeccarelloMosesOnQuinlanRickSchwarzerSloanSmithSmithThompsonUrbinoWakemanWangWheelerWisselAbbottAndersonBBainBeckerBrunnerBurnsButlerColicchioDipaceDonnellanDziakFerraroFortinFrazeeHageHorvathKiblerKominosMcCuneMeccarelloNortonQuinlanRickRybakSloaneSmithSmithStegemoellerSteinerThompsonUrbinoWakemanWheelerAbbottBainBarrettBurnsCameronCarlettaCoffeyFotinGardnerIlowiteKahlerKesselringKiblerKominosLangeLiessMcCuneMcGowanMiddletonMonescalchiMorganQuinlanReiffRickRybakStegemoellerUrbinoVan EppsWightYoon'\n 'dragonsdragonsdragonsdragonsdragonsdragonsdragonsdragonsdragonsdragonsdragonsdragonsdragonsdragonsdragonsdragonsdragonsdragonsdragonsdragonsdragonsdragonsdragonsdragonsdragonsdragonsdragonsdragonsdragonsdragonsdragonsdragonsdragonsdragonsdragonsdragonsdragonsdragonsdragonsdragonsdragonsdragonsdragonsdragonsdragonsdragonsdragonsdragonsdragonsdragonsdragonsdragonsdragonsdragonsdragonsdragonsdragonsdragonsdragonsdragonsdragonsdragonsdragonsdragonsdragonsdragonsdragonsdragonsdragonsdragonsdragonsdragonsdragonsdragonsdragonsdragonsdragonsdragonsdragonsdragonsdragonsdragonsdragonsdragonsdragonsdragonsdragonsdragonsdragonsdragonsdragonsdragonsdragonsdragonsdragonsdragonsdragonsdragonsdragonsdragonsdragonsdragonsdragonsdragonsdragonsdragonsdragonsdragonsdragonsdragonsdragonsdragonsdragonsdragonsdragonsdragonsdragonsdragonsdragonsdragonsdragonsdragonsdragonsdragonsdragonsdragons'] to numeric",
          "traceback": [
            "\u001b[0;31m---------------------------------------------------------------------------\u001b[0m",
            "\u001b[0;31mTypeError\u001b[0m                                 Traceback (most recent call last)",
            "\u001b[0;32m<ipython-input-19-8f672777f1b1>\u001b[0m in \u001b[0;36m<cell line: 2>\u001b[0;34m()\u001b[0m\n\u001b[1;32m      1\u001b[0m \u001b[0mopponent_name\u001b[0m \u001b[0;34m=\u001b[0m \u001b[0;34m'dragons'\u001b[0m  \u001b[0;31m# Replace with the team name\u001b[0m\u001b[0;34m\u001b[0m\u001b[0;34m\u001b[0m\u001b[0m\n\u001b[0;32m----> 2\u001b[0;31m \u001b[0mopponent_stats\u001b[0m \u001b[0;34m=\u001b[0m \u001b[0mdf_opposing_team_players\u001b[0m\u001b[0;34m[\u001b[0m\u001b[0mdf_opposing_team_players\u001b[0m\u001b[0;34m[\u001b[0m\u001b[0;34m'teamID'\u001b[0m\u001b[0;34m]\u001b[0m \u001b[0;34m==\u001b[0m \u001b[0mopponent_name\u001b[0m\u001b[0;34m]\u001b[0m\u001b[0;34m.\u001b[0m\u001b[0mmean\u001b[0m\u001b[0;34m(\u001b[0m\u001b[0;34m)\u001b[0m\u001b[0;34m\u001b[0m\u001b[0;34m\u001b[0m\u001b[0m\n\u001b[0m",
            "\u001b[0;32m/usr/local/lib/python3.10/dist-packages/pandas/core/frame.py\u001b[0m in \u001b[0;36mmean\u001b[0;34m(self, axis, skipna, numeric_only, **kwargs)\u001b[0m\n\u001b[1;32m  11333\u001b[0m         \u001b[0;34m**\u001b[0m\u001b[0mkwargs\u001b[0m\u001b[0;34m,\u001b[0m\u001b[0;34m\u001b[0m\u001b[0;34m\u001b[0m\u001b[0m\n\u001b[1;32m  11334\u001b[0m     ):\n\u001b[0;32m> 11335\u001b[0;31m         \u001b[0mresult\u001b[0m \u001b[0;34m=\u001b[0m \u001b[0msuper\u001b[0m\u001b[0;34m(\u001b[0m\u001b[0;34m)\u001b[0m\u001b[0;34m.\u001b[0m\u001b[0mmean\u001b[0m\u001b[0;34m(\u001b[0m\u001b[0maxis\u001b[0m\u001b[0;34m,\u001b[0m \u001b[0mskipna\u001b[0m\u001b[0;34m,\u001b[0m \u001b[0mnumeric_only\u001b[0m\u001b[0;34m,\u001b[0m \u001b[0;34m**\u001b[0m\u001b[0mkwargs\u001b[0m\u001b[0;34m)\u001b[0m\u001b[0;34m\u001b[0m\u001b[0;34m\u001b[0m\u001b[0m\n\u001b[0m\u001b[1;32m  11336\u001b[0m         \u001b[0;32mif\u001b[0m \u001b[0misinstance\u001b[0m\u001b[0;34m(\u001b[0m\u001b[0mresult\u001b[0m\u001b[0;34m,\u001b[0m \u001b[0mSeries\u001b[0m\u001b[0;34m)\u001b[0m\u001b[0;34m:\u001b[0m\u001b[0;34m\u001b[0m\u001b[0;34m\u001b[0m\u001b[0m\n\u001b[1;32m  11337\u001b[0m             \u001b[0mresult\u001b[0m \u001b[0;34m=\u001b[0m \u001b[0mresult\u001b[0m\u001b[0;34m.\u001b[0m\u001b[0m__finalize__\u001b[0m\u001b[0;34m(\u001b[0m\u001b[0mself\u001b[0m\u001b[0;34m,\u001b[0m \u001b[0mmethod\u001b[0m\u001b[0;34m=\u001b[0m\u001b[0;34m\"mean\"\u001b[0m\u001b[0;34m)\u001b[0m\u001b[0;34m\u001b[0m\u001b[0;34m\u001b[0m\u001b[0m\n",
            "\u001b[0;32m/usr/local/lib/python3.10/dist-packages/pandas/core/generic.py\u001b[0m in \u001b[0;36mmean\u001b[0;34m(self, axis, skipna, numeric_only, **kwargs)\u001b[0m\n\u001b[1;32m  11990\u001b[0m         \u001b[0;34m**\u001b[0m\u001b[0mkwargs\u001b[0m\u001b[0;34m,\u001b[0m\u001b[0;34m\u001b[0m\u001b[0;34m\u001b[0m\u001b[0m\n\u001b[1;32m  11991\u001b[0m     ) -> Series | float:\n\u001b[0;32m> 11992\u001b[0;31m         return self._stat_function(\n\u001b[0m\u001b[1;32m  11993\u001b[0m             \u001b[0;34m\"mean\"\u001b[0m\u001b[0;34m,\u001b[0m \u001b[0mnanops\u001b[0m\u001b[0;34m.\u001b[0m\u001b[0mnanmean\u001b[0m\u001b[0;34m,\u001b[0m \u001b[0maxis\u001b[0m\u001b[0;34m,\u001b[0m \u001b[0mskipna\u001b[0m\u001b[0;34m,\u001b[0m \u001b[0mnumeric_only\u001b[0m\u001b[0;34m,\u001b[0m \u001b[0;34m**\u001b[0m\u001b[0mkwargs\u001b[0m\u001b[0;34m\u001b[0m\u001b[0;34m\u001b[0m\u001b[0m\n\u001b[1;32m  11994\u001b[0m         )\n",
            "\u001b[0;32m/usr/local/lib/python3.10/dist-packages/pandas/core/generic.py\u001b[0m in \u001b[0;36m_stat_function\u001b[0;34m(self, name, func, axis, skipna, numeric_only, **kwargs)\u001b[0m\n\u001b[1;32m  11947\u001b[0m         \u001b[0mvalidate_bool_kwarg\u001b[0m\u001b[0;34m(\u001b[0m\u001b[0mskipna\u001b[0m\u001b[0;34m,\u001b[0m \u001b[0;34m\"skipna\"\u001b[0m\u001b[0;34m,\u001b[0m \u001b[0mnone_allowed\u001b[0m\u001b[0;34m=\u001b[0m\u001b[0;32mFalse\u001b[0m\u001b[0;34m)\u001b[0m\u001b[0;34m\u001b[0m\u001b[0;34m\u001b[0m\u001b[0m\n\u001b[1;32m  11948\u001b[0m \u001b[0;34m\u001b[0m\u001b[0m\n\u001b[0;32m> 11949\u001b[0;31m         return self._reduce(\n\u001b[0m\u001b[1;32m  11950\u001b[0m             \u001b[0mfunc\u001b[0m\u001b[0;34m,\u001b[0m \u001b[0mname\u001b[0m\u001b[0;34m=\u001b[0m\u001b[0mname\u001b[0m\u001b[0;34m,\u001b[0m \u001b[0maxis\u001b[0m\u001b[0;34m=\u001b[0m\u001b[0maxis\u001b[0m\u001b[0;34m,\u001b[0m \u001b[0mskipna\u001b[0m\u001b[0;34m=\u001b[0m\u001b[0mskipna\u001b[0m\u001b[0;34m,\u001b[0m \u001b[0mnumeric_only\u001b[0m\u001b[0;34m=\u001b[0m\u001b[0mnumeric_only\u001b[0m\u001b[0;34m\u001b[0m\u001b[0;34m\u001b[0m\u001b[0m\n\u001b[1;32m  11951\u001b[0m         )\n",
            "\u001b[0;32m/usr/local/lib/python3.10/dist-packages/pandas/core/frame.py\u001b[0m in \u001b[0;36m_reduce\u001b[0;34m(self, op, name, axis, skipna, numeric_only, filter_type, **kwds)\u001b[0m\n\u001b[1;32m  11202\u001b[0m         \u001b[0;31m# After possibly _get_data and transposing, we are now in the\u001b[0m\u001b[0;34m\u001b[0m\u001b[0;34m\u001b[0m\u001b[0m\n\u001b[1;32m  11203\u001b[0m         \u001b[0;31m#  simple case where we can use BlockManager.reduce\u001b[0m\u001b[0;34m\u001b[0m\u001b[0;34m\u001b[0m\u001b[0m\n\u001b[0;32m> 11204\u001b[0;31m         \u001b[0mres\u001b[0m \u001b[0;34m=\u001b[0m \u001b[0mdf\u001b[0m\u001b[0;34m.\u001b[0m\u001b[0m_mgr\u001b[0m\u001b[0;34m.\u001b[0m\u001b[0mreduce\u001b[0m\u001b[0;34m(\u001b[0m\u001b[0mblk_func\u001b[0m\u001b[0;34m)\u001b[0m\u001b[0;34m\u001b[0m\u001b[0;34m\u001b[0m\u001b[0m\n\u001b[0m\u001b[1;32m  11205\u001b[0m         \u001b[0mout\u001b[0m \u001b[0;34m=\u001b[0m \u001b[0mdf\u001b[0m\u001b[0;34m.\u001b[0m\u001b[0m_constructor_from_mgr\u001b[0m\u001b[0;34m(\u001b[0m\u001b[0mres\u001b[0m\u001b[0;34m,\u001b[0m \u001b[0maxes\u001b[0m\u001b[0;34m=\u001b[0m\u001b[0mres\u001b[0m\u001b[0;34m.\u001b[0m\u001b[0maxes\u001b[0m\u001b[0;34m)\u001b[0m\u001b[0;34m.\u001b[0m\u001b[0miloc\u001b[0m\u001b[0;34m[\u001b[0m\u001b[0;36m0\u001b[0m\u001b[0;34m]\u001b[0m\u001b[0;34m\u001b[0m\u001b[0;34m\u001b[0m\u001b[0m\n\u001b[1;32m  11206\u001b[0m         \u001b[0;32mif\u001b[0m \u001b[0mout_dtype\u001b[0m \u001b[0;32mis\u001b[0m \u001b[0;32mnot\u001b[0m \u001b[0;32mNone\u001b[0m \u001b[0;32mand\u001b[0m \u001b[0mout\u001b[0m\u001b[0;34m.\u001b[0m\u001b[0mdtype\u001b[0m \u001b[0;34m!=\u001b[0m \u001b[0;34m\"boolean\"\u001b[0m\u001b[0;34m:\u001b[0m\u001b[0;34m\u001b[0m\u001b[0;34m\u001b[0m\u001b[0m\n",
            "\u001b[0;32m/usr/local/lib/python3.10/dist-packages/pandas/core/internals/managers.py\u001b[0m in \u001b[0;36mreduce\u001b[0;34m(self, func)\u001b[0m\n\u001b[1;32m   1457\u001b[0m         \u001b[0mres_blocks\u001b[0m\u001b[0;34m:\u001b[0m \u001b[0mlist\u001b[0m\u001b[0;34m[\u001b[0m\u001b[0mBlock\u001b[0m\u001b[0;34m]\u001b[0m \u001b[0;34m=\u001b[0m \u001b[0;34m[\u001b[0m\u001b[0;34m]\u001b[0m\u001b[0;34m\u001b[0m\u001b[0;34m\u001b[0m\u001b[0m\n\u001b[1;32m   1458\u001b[0m         \u001b[0;32mfor\u001b[0m \u001b[0mblk\u001b[0m \u001b[0;32min\u001b[0m \u001b[0mself\u001b[0m\u001b[0;34m.\u001b[0m\u001b[0mblocks\u001b[0m\u001b[0;34m:\u001b[0m\u001b[0;34m\u001b[0m\u001b[0;34m\u001b[0m\u001b[0m\n\u001b[0;32m-> 1459\u001b[0;31m             \u001b[0mnbs\u001b[0m \u001b[0;34m=\u001b[0m \u001b[0mblk\u001b[0m\u001b[0;34m.\u001b[0m\u001b[0mreduce\u001b[0m\u001b[0;34m(\u001b[0m\u001b[0mfunc\u001b[0m\u001b[0;34m)\u001b[0m\u001b[0;34m\u001b[0m\u001b[0;34m\u001b[0m\u001b[0m\n\u001b[0m\u001b[1;32m   1460\u001b[0m             \u001b[0mres_blocks\u001b[0m\u001b[0;34m.\u001b[0m\u001b[0mextend\u001b[0m\u001b[0;34m(\u001b[0m\u001b[0mnbs\u001b[0m\u001b[0;34m)\u001b[0m\u001b[0;34m\u001b[0m\u001b[0;34m\u001b[0m\u001b[0m\n\u001b[1;32m   1461\u001b[0m \u001b[0;34m\u001b[0m\u001b[0m\n",
            "\u001b[0;32m/usr/local/lib/python3.10/dist-packages/pandas/core/internals/blocks.py\u001b[0m in \u001b[0;36mreduce\u001b[0;34m(self, func)\u001b[0m\n\u001b[1;32m    375\u001b[0m         \u001b[0;32massert\u001b[0m \u001b[0mself\u001b[0m\u001b[0;34m.\u001b[0m\u001b[0mndim\u001b[0m \u001b[0;34m==\u001b[0m \u001b[0;36m2\u001b[0m\u001b[0;34m\u001b[0m\u001b[0;34m\u001b[0m\u001b[0m\n\u001b[1;32m    376\u001b[0m \u001b[0;34m\u001b[0m\u001b[0m\n\u001b[0;32m--> 377\u001b[0;31m         \u001b[0mresult\u001b[0m \u001b[0;34m=\u001b[0m \u001b[0mfunc\u001b[0m\u001b[0;34m(\u001b[0m\u001b[0mself\u001b[0m\u001b[0;34m.\u001b[0m\u001b[0mvalues\u001b[0m\u001b[0;34m)\u001b[0m\u001b[0;34m\u001b[0m\u001b[0;34m\u001b[0m\u001b[0m\n\u001b[0m\u001b[1;32m    378\u001b[0m \u001b[0;34m\u001b[0m\u001b[0m\n\u001b[1;32m    379\u001b[0m         \u001b[0;32mif\u001b[0m \u001b[0mself\u001b[0m\u001b[0;34m.\u001b[0m\u001b[0mvalues\u001b[0m\u001b[0;34m.\u001b[0m\u001b[0mndim\u001b[0m \u001b[0;34m==\u001b[0m \u001b[0;36m1\u001b[0m\u001b[0;34m:\u001b[0m\u001b[0;34m\u001b[0m\u001b[0;34m\u001b[0m\u001b[0m\n",
            "\u001b[0;32m/usr/local/lib/python3.10/dist-packages/pandas/core/frame.py\u001b[0m in \u001b[0;36mblk_func\u001b[0;34m(values, axis)\u001b[0m\n\u001b[1;32m  11134\u001b[0m                     \u001b[0;32mreturn\u001b[0m \u001b[0mnp\u001b[0m\u001b[0;34m.\u001b[0m\u001b[0marray\u001b[0m\u001b[0;34m(\u001b[0m\u001b[0;34m[\u001b[0m\u001b[0mresult\u001b[0m\u001b[0;34m]\u001b[0m\u001b[0;34m)\u001b[0m\u001b[0;34m\u001b[0m\u001b[0;34m\u001b[0m\u001b[0m\n\u001b[1;32m  11135\u001b[0m             \u001b[0;32melse\u001b[0m\u001b[0;34m:\u001b[0m\u001b[0;34m\u001b[0m\u001b[0;34m\u001b[0m\u001b[0m\n\u001b[0;32m> 11136\u001b[0;31m                 \u001b[0;32mreturn\u001b[0m \u001b[0mop\u001b[0m\u001b[0;34m(\u001b[0m\u001b[0mvalues\u001b[0m\u001b[0;34m,\u001b[0m \u001b[0maxis\u001b[0m\u001b[0;34m=\u001b[0m\u001b[0maxis\u001b[0m\u001b[0;34m,\u001b[0m \u001b[0mskipna\u001b[0m\u001b[0;34m=\u001b[0m\u001b[0mskipna\u001b[0m\u001b[0;34m,\u001b[0m \u001b[0;34m**\u001b[0m\u001b[0mkwds\u001b[0m\u001b[0;34m)\u001b[0m\u001b[0;34m\u001b[0m\u001b[0;34m\u001b[0m\u001b[0m\n\u001b[0m\u001b[1;32m  11137\u001b[0m \u001b[0;34m\u001b[0m\u001b[0m\n\u001b[1;32m  11138\u001b[0m         \u001b[0;32mdef\u001b[0m \u001b[0m_get_data\u001b[0m\u001b[0;34m(\u001b[0m\u001b[0;34m)\u001b[0m \u001b[0;34m->\u001b[0m \u001b[0mDataFrame\u001b[0m\u001b[0;34m:\u001b[0m\u001b[0;34m\u001b[0m\u001b[0;34m\u001b[0m\u001b[0m\n",
            "\u001b[0;32m/usr/local/lib/python3.10/dist-packages/pandas/core/nanops.py\u001b[0m in \u001b[0;36mf\u001b[0;34m(values, axis, skipna, **kwds)\u001b[0m\n\u001b[1;32m    145\u001b[0m                     \u001b[0mresult\u001b[0m \u001b[0;34m=\u001b[0m \u001b[0malt\u001b[0m\u001b[0;34m(\u001b[0m\u001b[0mvalues\u001b[0m\u001b[0;34m,\u001b[0m \u001b[0maxis\u001b[0m\u001b[0;34m=\u001b[0m\u001b[0maxis\u001b[0m\u001b[0;34m,\u001b[0m \u001b[0mskipna\u001b[0m\u001b[0;34m=\u001b[0m\u001b[0mskipna\u001b[0m\u001b[0;34m,\u001b[0m \u001b[0;34m**\u001b[0m\u001b[0mkwds\u001b[0m\u001b[0;34m)\u001b[0m\u001b[0;34m\u001b[0m\u001b[0;34m\u001b[0m\u001b[0m\n\u001b[1;32m    146\u001b[0m             \u001b[0;32melse\u001b[0m\u001b[0;34m:\u001b[0m\u001b[0;34m\u001b[0m\u001b[0;34m\u001b[0m\u001b[0m\n\u001b[0;32m--> 147\u001b[0;31m                 \u001b[0mresult\u001b[0m \u001b[0;34m=\u001b[0m \u001b[0malt\u001b[0m\u001b[0;34m(\u001b[0m\u001b[0mvalues\u001b[0m\u001b[0;34m,\u001b[0m \u001b[0maxis\u001b[0m\u001b[0;34m=\u001b[0m\u001b[0maxis\u001b[0m\u001b[0;34m,\u001b[0m \u001b[0mskipna\u001b[0m\u001b[0;34m=\u001b[0m\u001b[0mskipna\u001b[0m\u001b[0;34m,\u001b[0m \u001b[0;34m**\u001b[0m\u001b[0mkwds\u001b[0m\u001b[0;34m)\u001b[0m\u001b[0;34m\u001b[0m\u001b[0;34m\u001b[0m\u001b[0m\n\u001b[0m\u001b[1;32m    148\u001b[0m \u001b[0;34m\u001b[0m\u001b[0m\n\u001b[1;32m    149\u001b[0m             \u001b[0;32mreturn\u001b[0m \u001b[0mresult\u001b[0m\u001b[0;34m\u001b[0m\u001b[0;34m\u001b[0m\u001b[0m\n",
            "\u001b[0;32m/usr/local/lib/python3.10/dist-packages/pandas/core/nanops.py\u001b[0m in \u001b[0;36mnew_func\u001b[0;34m(values, axis, skipna, mask, **kwargs)\u001b[0m\n\u001b[1;32m    402\u001b[0m             \u001b[0mmask\u001b[0m \u001b[0;34m=\u001b[0m \u001b[0misna\u001b[0m\u001b[0;34m(\u001b[0m\u001b[0mvalues\u001b[0m\u001b[0;34m)\u001b[0m\u001b[0;34m\u001b[0m\u001b[0;34m\u001b[0m\u001b[0m\n\u001b[1;32m    403\u001b[0m \u001b[0;34m\u001b[0m\u001b[0m\n\u001b[0;32m--> 404\u001b[0;31m         \u001b[0mresult\u001b[0m \u001b[0;34m=\u001b[0m \u001b[0mfunc\u001b[0m\u001b[0;34m(\u001b[0m\u001b[0mvalues\u001b[0m\u001b[0;34m,\u001b[0m \u001b[0maxis\u001b[0m\u001b[0;34m=\u001b[0m\u001b[0maxis\u001b[0m\u001b[0;34m,\u001b[0m \u001b[0mskipna\u001b[0m\u001b[0;34m=\u001b[0m\u001b[0mskipna\u001b[0m\u001b[0;34m,\u001b[0m \u001b[0mmask\u001b[0m\u001b[0;34m=\u001b[0m\u001b[0mmask\u001b[0m\u001b[0;34m,\u001b[0m \u001b[0;34m**\u001b[0m\u001b[0mkwargs\u001b[0m\u001b[0;34m)\u001b[0m\u001b[0;34m\u001b[0m\u001b[0;34m\u001b[0m\u001b[0m\n\u001b[0m\u001b[1;32m    405\u001b[0m \u001b[0;34m\u001b[0m\u001b[0m\n\u001b[1;32m    406\u001b[0m         \u001b[0;32mif\u001b[0m \u001b[0mdatetimelike\u001b[0m\u001b[0;34m:\u001b[0m\u001b[0;34m\u001b[0m\u001b[0;34m\u001b[0m\u001b[0m\n",
            "\u001b[0;32m/usr/local/lib/python3.10/dist-packages/pandas/core/nanops.py\u001b[0m in \u001b[0;36mnanmean\u001b[0;34m(values, axis, skipna, mask)\u001b[0m\n\u001b[1;32m    718\u001b[0m     \u001b[0mcount\u001b[0m \u001b[0;34m=\u001b[0m \u001b[0m_get_counts\u001b[0m\u001b[0;34m(\u001b[0m\u001b[0mvalues\u001b[0m\u001b[0;34m.\u001b[0m\u001b[0mshape\u001b[0m\u001b[0;34m,\u001b[0m \u001b[0mmask\u001b[0m\u001b[0;34m,\u001b[0m \u001b[0maxis\u001b[0m\u001b[0;34m,\u001b[0m \u001b[0mdtype\u001b[0m\u001b[0;34m=\u001b[0m\u001b[0mdtype_count\u001b[0m\u001b[0;34m)\u001b[0m\u001b[0;34m\u001b[0m\u001b[0;34m\u001b[0m\u001b[0m\n\u001b[1;32m    719\u001b[0m     \u001b[0mthe_sum\u001b[0m \u001b[0;34m=\u001b[0m \u001b[0mvalues\u001b[0m\u001b[0;34m.\u001b[0m\u001b[0msum\u001b[0m\u001b[0;34m(\u001b[0m\u001b[0maxis\u001b[0m\u001b[0;34m,\u001b[0m \u001b[0mdtype\u001b[0m\u001b[0;34m=\u001b[0m\u001b[0mdtype_sum\u001b[0m\u001b[0;34m)\u001b[0m\u001b[0;34m\u001b[0m\u001b[0;34m\u001b[0m\u001b[0m\n\u001b[0;32m--> 720\u001b[0;31m     \u001b[0mthe_sum\u001b[0m \u001b[0;34m=\u001b[0m \u001b[0m_ensure_numeric\u001b[0m\u001b[0;34m(\u001b[0m\u001b[0mthe_sum\u001b[0m\u001b[0;34m)\u001b[0m\u001b[0;34m\u001b[0m\u001b[0;34m\u001b[0m\u001b[0m\n\u001b[0m\u001b[1;32m    721\u001b[0m \u001b[0;34m\u001b[0m\u001b[0m\n\u001b[1;32m    722\u001b[0m     \u001b[0;32mif\u001b[0m \u001b[0maxis\u001b[0m \u001b[0;32mis\u001b[0m \u001b[0;32mnot\u001b[0m \u001b[0;32mNone\u001b[0m \u001b[0;32mand\u001b[0m \u001b[0mgetattr\u001b[0m\u001b[0;34m(\u001b[0m\u001b[0mthe_sum\u001b[0m\u001b[0;34m,\u001b[0m \u001b[0;34m\"ndim\"\u001b[0m\u001b[0;34m,\u001b[0m \u001b[0;32mFalse\u001b[0m\u001b[0;34m)\u001b[0m\u001b[0;34m:\u001b[0m\u001b[0;34m\u001b[0m\u001b[0;34m\u001b[0m\u001b[0m\n",
            "\u001b[0;32m/usr/local/lib/python3.10/dist-packages/pandas/core/nanops.py\u001b[0m in \u001b[0;36m_ensure_numeric\u001b[0;34m(x)\u001b[0m\n\u001b[1;32m   1676\u001b[0m             \u001b[0;32mif\u001b[0m \u001b[0minferred\u001b[0m \u001b[0;32min\u001b[0m \u001b[0;34m[\u001b[0m\u001b[0;34m\"string\"\u001b[0m\u001b[0;34m,\u001b[0m \u001b[0;34m\"mixed\"\u001b[0m\u001b[0;34m]\u001b[0m\u001b[0;34m:\u001b[0m\u001b[0;34m\u001b[0m\u001b[0;34m\u001b[0m\u001b[0m\n\u001b[1;32m   1677\u001b[0m                 \u001b[0;31m# GH#44008, GH#36703 avoid casting e.g. strings to numeric\u001b[0m\u001b[0;34m\u001b[0m\u001b[0;34m\u001b[0m\u001b[0m\n\u001b[0;32m-> 1678\u001b[0;31m                 \u001b[0;32mraise\u001b[0m \u001b[0mTypeError\u001b[0m\u001b[0;34m(\u001b[0m\u001b[0;34mf\"Could not convert {x} to numeric\"\u001b[0m\u001b[0;34m)\u001b[0m\u001b[0;34m\u001b[0m\u001b[0;34m\u001b[0m\u001b[0m\n\u001b[0m\u001b[1;32m   1679\u001b[0m             \u001b[0;32mtry\u001b[0m\u001b[0;34m:\u001b[0m\u001b[0;34m\u001b[0m\u001b[0;34m\u001b[0m\u001b[0m\n\u001b[1;32m   1680\u001b[0m                 \u001b[0mx\u001b[0m \u001b[0;34m=\u001b[0m \u001b[0mx\u001b[0m\u001b[0;34m.\u001b[0m\u001b[0mastype\u001b[0m\u001b[0;34m(\u001b[0m\u001b[0mnp\u001b[0m\u001b[0;34m.\u001b[0m\u001b[0mcomplex128\u001b[0m\u001b[0;34m)\u001b[0m\u001b[0;34m\u001b[0m\u001b[0;34m\u001b[0m\u001b[0m\n",
            "\u001b[0;31mTypeError\u001b[0m: Could not convert ['201220122012201220122012201220122012201220122012201220122012201220122012201220122012201220122012201220122013201320132013201320132013201320132013201320132013201320132013201320132013201320132013201320132013201320132013201320132013201320132013201320132014201420142014201420142014201420142014201420142014201420142014201420142014201420142014201420142014201420142014201420142014201420142014201520152015201520152015201520152015201520152015201520152015201520152015201520152015201520152015201520152015201520152015'\n 'mandersonjbainsbrunnertburnsdculverjdemasovdevarajedixonsdonnellardulabonkdziakdhassellthorvathjkantermpannonemplunkettkquinlanjramermanjserafinizsmithmsteinerdurbinogwakemandwardaweitzmandwheelerdabbottjbainjbeckersbrunnertburnsscalabresccolicchidculvervdevarajidipaceedixonsdonnellakdziakdferrarocfortinsglauserkhoercherthorvathjkantertkominosdmccuneemeccarelkmosesdonkquinlanmrickhschwarzewsloanzsmithrsmith1jthompsondurbinogwakemandwangdwheelertwisseldabbottmandersonunknown17jbainjbeckersbrunnertburnsnbutlerccolicchiidipacesdonnellakdziakdferrarocfortinsfrazeeghagethorvathbkiblertkominosdmccuneemeccarelanortonkquinlanmrickmrybakwsloanezsmithrsmith1pstegemoemsteinerjthompsondurbinogwakemanmwheelerdabbottjbaincbarretttburnsmcameronscarlettabcoffeycfotinwgardnerjilowitebkahlermkesselribkiblertkominosrlangecliessdmccunecmcgowancmiddletoamonescalkmorgankquinlancreiffmrickmrybakpstegemoedurbinorvaneppstwighteyoon'\n 'MattJonathanSkylarTJDeanJasonVivekEricSeanRobKJDanThomasJeremyMikeMikeKevinJohnJohnZackMitchellDougGregDavidAriDavidDaveJonathanJoeSkylarTJSteveCJDeanVivekIanEricSeanKJDavidConnorStephenKevinThomasJeremyTimDanEvanKellyDannyKevinMaxwellHarrisonWillZackRobJoeDougGregDanDavidTadDaveMattDylanJonathanJoeSkylarTJNealCJIanSeanKJDavidConnorSonnyGabrielThomasBrianTimDanEvanAlecKevinMaxwellMattWillZackRobPatrickMitchellJoeDougGregMitchDaveJonathanChrisTJMattSamBretConnorWilsonJustinBrandonMaxBrianTimRichardChrisDanCraigCarterAnthonyKyleKevinCharlieMaxwellMattPatrickDougRaleighThomasEric'\n 'AndersonBainBrunnerBurnsCulverDeMasoDevarajDixonDonnellanDulabonDziakHassellHorvathKanterPannonePlunkettQuinlanRamermanSerafiniSmithSteinerUrbinoWakemanWardWeitzmanWheelerAbbottBainBeckerBrunnerBurnsCalabreseColicchioCulverDevarajDipaceDixonDonnellanDziakFerraroFortinGlauserHoercherHorvathKanterKominosMcCuneMeccarelloMosesOnQuinlanRickSchwarzerSloanSmithSmithThompsonUrbinoWakemanWangWheelerWisselAbbottAndersonBBainBeckerBrunnerBurnsButlerColicchioDipaceDonnellanDziakFerraroFortinFrazeeHageHorvathKiblerKominosMcCuneMeccarelloNortonQuinlanRickRybakSloaneSmithSmithStegemoellerSteinerThompsonUrbinoWakemanWheelerAbbottBainBarrettBurnsCameronCarlettaCoffeyFotinGardnerIlowiteKahlerKesselringKiblerKominosLangeLiessMcCuneMcGowanMiddletonMonescalchiMorganQuinlanReiffRickRybakStegemoellerUrbinoVan EppsWightYoon'\n 'dragonsdragonsdragonsdragonsdragonsdragonsdragonsdragonsdragonsdragonsdragonsdragonsdragonsdragonsdragonsdragonsdragonsdragonsdragonsdragonsdragonsdragonsdragonsdragonsdragonsdragonsdragonsdragonsdragonsdragonsdragonsdragonsdragonsdragonsdragonsdragonsdragonsdragonsdragonsdragonsdragonsdragonsdragonsdragonsdragonsdragonsdragonsdragonsdragonsdragonsdragonsdragonsdragonsdragonsdragonsdragonsdragonsdragonsdragonsdragonsdragonsdragonsdragonsdragonsdragonsdragonsdragonsdragonsdragonsdragonsdragonsdragonsdragonsdragonsdragonsdragonsdragonsdragonsdragonsdragonsdragonsdragonsdragonsdragonsdragonsdragonsdragonsdragonsdragonsdragonsdragonsdragonsdragonsdragonsdragonsdragonsdragonsdragonsdragonsdragonsdragonsdragonsdragonsdragonsdragonsdragonsdragonsdragonsdragonsdragonsdragonsdragonsdragonsdragonsdragonsdragonsdragonsdragonsdragonsdragonsdragonsdragonsdragonsdragonsdragonsdragons'] to numeric"
          ]
        }
      ]
    },
    {
      "cell_type": "code",
      "source": [
        "prob = LpProblem(\"Optimal_Boston_Glory_Lineup\", LpMaximize)\n"
      ],
      "metadata": {
        "id": "UE5r3AUHOSsQ"
      },
      "execution_count": 20,
      "outputs": []
    },
    {
      "cell_type": "code",
      "source": [
        "player_vars = LpVariable.dicts(\"SelectPlayer\", df_boston_glory_players['playerID'], cat='Binary')\n"
      ],
      "metadata": {
        "id": "DP_okm2QOUYu"
      },
      "execution_count": 21,
      "outputs": []
    },
    {
      "cell_type": "code",
      "source": [
        "objective = lpSum([\n",
        "    player_vars[row['playerID']] * (\n",
        "        (1.5 if row['oPointsPlayed'] > row['dPointsPlayed'] else 0.5) * (\n",
        "            row['goals'] + row['assists'] + row['completions']\n",
        "        ) + 1.2 * (row['goals'] - row['dPointsPlayed'])\n",
        "    )\n",
        "    for index, row in df_boston_glory_players.iterrows()\n",
        "])\n",
        "prob += objective\n"
      ],
      "metadata": {
        "colab": {
          "base_uri": "https://localhost:8080/"
        },
        "id": "xFKB6vcuOWM2",
        "outputId": "bc9890be-1b9b-4688-ef8b-383cca7e0eb1"
      },
      "execution_count": 24,
      "outputs": [
        {
          "output_type": "stream",
          "name": "stderr",
          "text": [
            "/usr/local/lib/python3.10/dist-packages/pulp/pulp.py:1650: UserWarning: Overwriting previously set objective.\n",
            "  warnings.warn(\"Overwriting previously set objective.\")\n"
          ]
        }
      ]
    },
    {
      "cell_type": "code",
      "source": [
        "df_boston_glory_players = client.query(\"\"\"\n",
        "    SELECT *\n",
        "    FROM `boston-glory-analytics.audl.boston_glory_players`\n",
        "\"\"\").to_dataframe()\n"
      ],
      "metadata": {
        "id": "aYog9InAOn-d"
      },
      "execution_count": 28,
      "outputs": []
    },
    {
      "cell_type": "code",
      "source": [
        "prob += lpSum(player_vars) == 7\n",
        "\n",
        "prob += lpSum([player_vars[row['playerID']] for index, row in df_boston_glory_players.iterrows() if row['oPointsPlayed'] > row['dPointsPlayed']]) == 4\n",
        "prob += lpSum([player_vars[row['playerID']] for index, row in df_boston_glory_players.iterrows() if row['dPointsPlayed'] > row['oPointsPlayed']]) == 3\n"
      ],
      "metadata": {
        "id": "yCY8w3p-O843"
      },
      "execution_count": 31,
      "outputs": []
    },
    {
      "cell_type": "code",
      "source": [
        "prob.solve()\n"
      ],
      "metadata": {
        "colab": {
          "base_uri": "https://localhost:8080/"
        },
        "id": "XysWxJDoPAEg",
        "outputId": "f86fbc6d-a41d-4d82-e7e9-7c1f92d9ed29"
      },
      "execution_count": 32,
      "outputs": [
        {
          "output_type": "execute_result",
          "data": {
            "text/plain": [
              "1"
            ]
          },
          "metadata": {},
          "execution_count": 32
        }
      ]
    },
    {
      "cell_type": "code",
      "source": [
        "selected_players = [player_id for player_id in df_boston_glory_players['playerID'] if player_vars[player_id].varValue == 1]\n",
        "\n",
        "optimal_lineup = df_boston_glory_players[df_boston_glory_players['playerID'].isin(selected_players)][['firstName', 'lastName']]\n",
        "print(\"Optimal Starting Lineup:\")\n",
        "print(optimal_lineup)\n"
      ],
      "metadata": {
        "colab": {
          "base_uri": "https://localhost:8080/"
        },
        "id": "zTcoDwzGPDMI",
        "outputId": "e4cd6d3f-4e9a-4510-bd34-2b9422dd4b97"
      },
      "execution_count": 34,
      "outputs": [
        {
          "output_type": "stream",
          "name": "stdout",
          "text": [
            "Optimal Starting Lineup:\n",
            "    firstName   lastName\n",
            "0       Henry    Babcock\n",
            "26   Benjamin      Sadok\n",
            "30        Ray  Tetreault\n",
            "51  Nathanial       Dick\n",
            "53       Luka    Govedic\n",
            "65      Henry    Laseter\n",
            "74   Benjamin      Sadok\n",
            "78        Ray  Tetreault\n",
            "79       Ryan     Tirner\n"
          ]
        }
      ]
    },
    {
      "cell_type": "code",
      "source": [
        "opponent_weight = opponent_stats['goals'] + opponent_stats['assists'] + opponent_stats['completions'] - opponent_stats['blocks']\n",
        "\n",
        "objective = lpSum([\n",
        "    player_vars[row['playerID']] * (\n",
        "        (1.5 if row['oPointsPlayed'] > row['dPointsPlayed'] else 0.5) * (\n",
        "            row['goals'] + row['assists'] + row['completions']\n",
        "        ) + 1.2 * (row['goals'] - row['dPointsPlayed'])\n",
        "    ) * opponent_weight\n",
        "    for index, row in df_boston_glory_players.iterrows()\n",
        "])\n",
        "prob += objective\n"
      ],
      "metadata": {
        "colab": {
          "base_uri": "https://localhost:8080/"
        },
        "id": "9VoBH6sYPUG1",
        "outputId": "0e3e99e4-6ee7-4a54-8836-e9c96a5c9dec"
      },
      "execution_count": 35,
      "outputs": [
        {
          "output_type": "stream",
          "name": "stderr",
          "text": [
            "/usr/local/lib/python3.10/dist-packages/pulp/pulp.py:1650: UserWarning: Overwriting previously set objective.\n",
            "  warnings.warn(\"Overwriting previously set objective.\")\n"
          ]
        }
      ]
    },
    {
      "cell_type": "code",
      "source": [
        "prob.solve()\n",
        "\n",
        "selected_players = [player_id for player_id in df_boston_glory_players['playerID'] if player_vars[player_id].varValue == 1]\n",
        "optimal_lineup = df_boston_glory_players[df_boston_glory_players['playerID'].isin(selected_players)][['firstName', 'lastName']]\n",
        "print(\"Opponent-Specific Optimal Starting Lineup:\")\n",
        "print(optimal_lineup)\n"
      ],
      "metadata": {
        "colab": {
          "base_uri": "https://localhost:8080/"
        },
        "id": "5HQbhenoPVSo",
        "outputId": "7cea0979-4365-4641-e90d-fe8ca6194b3b"
      },
      "execution_count": 36,
      "outputs": [
        {
          "output_type": "stream",
          "name": "stdout",
          "text": [
            "Opponent-Specific Optimal Starting Lineup:\n",
            "    firstName   lastName\n",
            "0       Henry    Babcock\n",
            "26   Benjamin      Sadok\n",
            "30        Ray  Tetreault\n",
            "51  Nathanial       Dick\n",
            "53       Luka    Govedic\n",
            "65      Henry    Laseter\n",
            "74   Benjamin      Sadok\n",
            "78        Ray  Tetreault\n",
            "79       Ryan     Tirner\n"
          ]
        }
      ]
    },
    {
      "cell_type": "code",
      "source": [
        "opponent_name = 'dragons'\n",
        "\n",
        "df_opposing_team_players = client.query(\"\"\"\n",
        "    SELECT *\n",
        "    FROM `boston-glory-analytics.audl.opposing_team_players`\n",
        "\"\"\").to_dataframe()\n",
        "\n",
        "opponent_stats = df_opposing_team_players[df_opposing_team_players['teamID'] == opponent_name][['goals', 'assists', 'completions', 'blocks']].mean()\n",
        "\n",
        "print(\"Opponent Stats:\")\n",
        "print(opponent_stats)\n"
      ],
      "metadata": {
        "colab": {
          "base_uri": "https://localhost:8080/"
        },
        "id": "uNYxuqUQPulr",
        "outputId": "9e68d1ee-71a3-4e42-e126-afc561726a76"
      },
      "execution_count": 40,
      "outputs": [
        {
          "output_type": "stream",
          "name": "stdout",
          "text": [
            "Opponent Stats:\n",
            "goals           7.674603\n",
            "assists         7.611111\n",
            "completions    96.357143\n",
            "blocks          5.301587\n",
            "dtype: Float64\n"
          ]
        }
      ]
    },
    {
      "cell_type": "code",
      "source": [
        "opponent_weight = opponent_stats['goals'] + opponent_stats['assists'] + opponent_stats['completions'] - opponent_stats['blocks']\n",
        "\n",
        "objective = lpSum([\n",
        "    player_vars[row['playerID']] * (\n",
        "        (1.5 if row['oPointsPlayed'] > row['dPointsPlayed'] else 0.5) * (\n",
        "            row['goals'] + row['assists'] + row['completions']\n",
        "        ) + 1.2 * (row['goals'] - row['dPointsPlayed'])\n",
        "    ) * opponent_weight\n",
        "    for index, row in df_boston_glory_players.iterrows()\n",
        "])\n",
        "prob += objective\n"
      ],
      "metadata": {
        "colab": {
          "base_uri": "https://localhost:8080/"
        },
        "id": "lFLkwbXiPwy0",
        "outputId": "4e2eff51-eb2c-45de-b352-6717264550f9"
      },
      "execution_count": 41,
      "outputs": [
        {
          "output_type": "stream",
          "name": "stderr",
          "text": [
            "/usr/local/lib/python3.10/dist-packages/pulp/pulp.py:1650: UserWarning: Overwriting previously set objective.\n",
            "  warnings.warn(\"Overwriting previously set objective.\")\n"
          ]
        }
      ]
    },
    {
      "cell_type": "code",
      "source": [
        "prob.solve()\n",
        "\n",
        "selected_players = [player_id for player_id in df_boston_glory_players['playerID'] if player_vars[player_id].varValue == 1]\n",
        "optimal_lineup = df_boston_glory_players[df_boston_glory_players['playerID'].isin(selected_players)][['firstName', 'lastName']]\n",
        "print(f\"Optimal Starting Lineup against {opponent_name}:\")\n",
        "print(optimal_lineup)\n"
      ],
      "metadata": {
        "colab": {
          "base_uri": "https://localhost:8080/"
        },
        "id": "9zJnUPw6Py3U",
        "outputId": "0b80b6cc-2ce5-4b9a-9c90-1e335f084f82"
      },
      "execution_count": 42,
      "outputs": [
        {
          "output_type": "stream",
          "name": "stdout",
          "text": [
            "Optimal Starting Lineup against dragons:\n",
            "    firstName   lastName\n",
            "0       Henry    Babcock\n",
            "26   Benjamin      Sadok\n",
            "30        Ray  Tetreault\n",
            "51  Nathanial       Dick\n",
            "53       Luka    Govedic\n",
            "65      Henry    Laseter\n",
            "74   Benjamin      Sadok\n",
            "78        Ray  Tetreault\n",
            "79       Ryan     Tirner\n"
          ]
        }
      ]
    },
    {
      "cell_type": "code",
      "source": [
        "prob += lpSum(player_vars) == 7\n"
      ],
      "metadata": {
        "id": "p2ytyyG3Qd6L"
      },
      "execution_count": 44,
      "outputs": []
    },
    {
      "cell_type": "code",
      "source": [
        "opponent_weight = {\n",
        "    'offensive_weight': opponent_stats['goals'] + opponent_stats['assists'],\n",
        "    'defensive_weight': opponent_stats['blocks']\n",
        "}\n",
        "\n",
        "objective = lpSum([\n",
        "    player_vars[row['playerID']] * (\n",
        "        (1.5 if row['oPointsPlayed'] > row['dPointsPlayed'] else 0.5) * (\n",
        "            row['goals'] * opponent_weight['offensive_weight'] +\n",
        "            row['assists'] * opponent_weight['offensive_weight'] +\n",
        "            row['completions'] * opponent_weight['offensive_weight']\n",
        "        ) + 1.2 * (row['blocks'] * opponent_weight['defensive_weight'])\n",
        "    )\n",
        "    for index, row in df_boston_glory_players.iterrows()\n",
        "])\n",
        "prob += objective\n"
      ],
      "metadata": {
        "colab": {
          "base_uri": "https://localhost:8080/"
        },
        "id": "-8WuE_5kQfeq",
        "outputId": "a8d7d1fa-7886-457e-ebc1-68b01b783da1"
      },
      "execution_count": 45,
      "outputs": [
        {
          "output_type": "stream",
          "name": "stderr",
          "text": [
            "/usr/local/lib/python3.10/dist-packages/pulp/pulp.py:1650: UserWarning: Overwriting previously set objective.\n",
            "  warnings.warn(\"Overwriting previously set objective.\")\n"
          ]
        }
      ]
    },
    {
      "cell_type": "code",
      "source": [
        "if opponent_stats['goals'] > opponent_stats['blocks']:\n",
        "    offensive_weight = 0.5\n",
        "    defensive_weight = 1.5\n",
        "else:\n",
        "    offensive_weight = 1.5\n",
        "    defensive_weight = 0.5\n",
        "\n",
        "objective = lpSum([\n",
        "    player_vars[row['playerID']] * (\n",
        "        offensive_weight * (row['goals'] + row['assists'] + row['completions']) +\n",
        "        defensive_weight * row['blocks']\n",
        "    )\n",
        "    for index, row in df_boston_glory_players.iterrows()\n",
        "])\n",
        "prob += objective\n"
      ],
      "metadata": {
        "colab": {
          "base_uri": "https://localhost:8080/"
        },
        "id": "lO3pyUvrQg2n",
        "outputId": "0cd1ade7-eb29-45c2-aec8-476353bffa1c"
      },
      "execution_count": 46,
      "outputs": [
        {
          "output_type": "stream",
          "name": "stderr",
          "text": [
            "/usr/local/lib/python3.10/dist-packages/pulp/pulp.py:1650: UserWarning: Overwriting previously set objective.\n",
            "  warnings.warn(\"Overwriting previously set objective.\")\n"
          ]
        }
      ]
    },
    {
      "cell_type": "code",
      "source": [
        "prob.solve()\n",
        "\n",
        "selected_players = [player_id for player_id in df_boston_glory_players['playerID'] if player_vars[player_id].varValue == 1]\n",
        "\n",
        "if len(selected_players) > 7:\n",
        "    selected_players = selected_players[:7]\n",
        "\n",
        "optimal_lineup = df_boston_glory_players[df_boston_glory_players['playerID'].isin(selected_players)][['firstName', 'lastName']]\n",
        "print(f\"Optimal Starting Lineup against {opponent_name}:\")\n",
        "print(optimal_lineup)\n"
      ],
      "metadata": {
        "colab": {
          "base_uri": "https://localhost:8080/"
        },
        "id": "pkBxv0_uQx3m",
        "outputId": "8e50dc2d-419f-4b65-b376-19d36e735b3e"
      },
      "execution_count": 47,
      "outputs": [
        {
          "output_type": "stream",
          "name": "stdout",
          "text": [
            "Optimal Starting Lineup against dragons:\n",
            "   firstName      lastName\n",
            "17     Jonah  Kurman-Faber\n",
            "20   Brendan        McCann\n",
            "26  Benjamin         Sadok\n",
            "27    Willie       Stewart\n",
            "28       Jay      Talerman\n",
            "53      Luka       Govedic\n",
            "62     Jonah  Kurman-Faber\n",
            "66   Brendan        McCann\n",
            "74  Benjamin         Sadok\n",
            "75    Willie       Stewart\n",
            "76       Jay      Talerman\n"
          ]
        }
      ]
    }
  ]
}